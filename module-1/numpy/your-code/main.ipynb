{
 "cells": [
  {
   "cell_type": "markdown",
   "metadata": {},
   "source": [
    "# Introduction to NumPy\n",
    "\n",
    "\n",
    "#### 1. Import NumPy under the name np."
   ]
  },
  {
   "cell_type": "code",
   "execution_count": 26,
   "metadata": {
    "collapsed": true
   },
   "outputs": [],
   "source": [
    "# your code here\n",
    "import numpy as np"
   ]
  },
  {
   "cell_type": "markdown",
   "metadata": {},
   "source": [
    "#### 2. Print your NumPy version."
   ]
  },
  {
   "cell_type": "code",
   "execution_count": 27,
   "metadata": {
    "collapsed": false
   },
   "outputs": [
    {
     "name": "stdout",
     "output_type": "stream",
     "text": [
      "1.10.1\n"
     ]
    }
   ],
   "source": [
    "# your code here\n",
    "print(np.__version__)"
   ]
  },
  {
   "cell_type": "markdown",
   "metadata": {},
   "source": [
    "#### 3. Generate a 2x3x5 3-dimensional array with random values. Assign the array to variable *a*.\n",
    "**Challenge**: there are at least three easy ways that use numpy to generate random arrays. How many ways can you find?"
   ]
  },
  {
   "cell_type": "code",
   "execution_count": 28,
   "metadata": {
    "collapsed": false
   },
   "outputs": [
    {
     "name": "stdout",
     "output_type": "stream",
     "text": [
      "[[[ 0.9644304   0.92929526  0.65199156  0.54890918  0.96837022]\n",
      "  [ 0.92721871  0.63580993  0.94061508  0.08031249  0.64105141]\n",
      "  [ 0.48821906  0.59813415  0.74758236  0.24998835  0.07714382]]\n",
      "\n",
      " [[ 0.4623921   0.04856094  0.73499811  0.55232756  0.90478901]\n",
      "  [ 0.10884319  0.19027477  0.92679581  0.76857202  0.94167813]\n",
      "  [ 0.683181    0.80843337  0.71780363  0.06769583  0.13903856]]]\n"
     ]
    }
   ],
   "source": [
    "# Method 1\n",
    "a = np.random.random((2,3,5))\n",
    "print(a)"
   ]
  },
  {
   "cell_type": "code",
   "execution_count": 29,
   "metadata": {
    "collapsed": false
   },
   "outputs": [
    {
     "name": "stdout",
     "output_type": "stream",
     "text": [
      "[[[ 0.52724903  0.86212332  0.94275601  0.66277943  0.68261977]\n",
      "  [ 0.84919644  0.41064895  0.15513988  0.89116084  0.27065725]\n",
      "  [ 0.09355822  0.71028337  0.52185007  0.92787472  0.705602  ]]\n",
      "\n",
      " [[ 0.92934147  0.86655128  0.80733364  0.29840773  0.80722022]\n",
      "  [ 0.52698067  0.59595451  0.81425242  0.64637023  0.77938047]\n",
      "  [ 0.78033999  0.88333439  0.9556738   0.67554957  0.35798004]]]\n"
     ]
    }
   ],
   "source": [
    "# Method 2\n",
    "#x = np.random.rand()\n",
    "#print(x)\n",
    "\n",
    "a=np.array([[[np.random.rand() for i in range(5)] for j in range(3)] for k in range(2)])\n",
    "\n",
    "print(a)"
   ]
  },
  {
   "cell_type": "code",
   "execution_count": 30,
   "metadata": {
    "collapsed": false
   },
   "outputs": [
    {
     "name": "stdout",
     "output_type": "stream",
     "text": [
      "[[[ 0.56739121  0.29403295  0.54607758  0.23603158  0.76343207]\n",
      "  [ 0.13693541  0.67865012  0.61191929  0.14919127  0.84679253]\n",
      "  [ 0.46448138  0.59447693  0.92626767  0.84257397  0.50750837]]\n",
      "\n",
      " [[ 0.23070866  0.72131413  0.07334796  0.00581471  0.84465431]\n",
      "  [ 0.34906584  0.70520672  0.04436775  0.0357105   0.0724948 ]\n",
      "  [ 0.36338878  0.748627    0.99431613  0.24566219  0.83370887]]]\n"
     ]
    }
   ],
   "source": [
    "# Method 3\n",
    "\n",
    "a= np.ones((2,3,5))\n",
    "for i in range(2):\n",
    "    for j in range(3):\n",
    "        for k in range(5): \n",
    "            x=np.random.rand()\n",
    "            a[i][j][k] = a[i][j][k]*x\n",
    "                             \n",
    "print(a)"
   ]
  },
  {
   "cell_type": "markdown",
   "metadata": {},
   "source": [
    "#### 4. Print *a*.\n"
   ]
  },
  {
   "cell_type": "code",
   "execution_count": 31,
   "metadata": {
    "collapsed": false
   },
   "outputs": [
    {
     "name": "stdout",
     "output_type": "stream",
     "text": [
      "[[[ 0.56739121  0.29403295  0.54607758  0.23603158  0.76343207]\n",
      "  [ 0.13693541  0.67865012  0.61191929  0.14919127  0.84679253]\n",
      "  [ 0.46448138  0.59447693  0.92626767  0.84257397  0.50750837]]\n",
      "\n",
      " [[ 0.23070866  0.72131413  0.07334796  0.00581471  0.84465431]\n",
      "  [ 0.34906584  0.70520672  0.04436775  0.0357105   0.0724948 ]\n",
      "  [ 0.36338878  0.748627    0.99431613  0.24566219  0.83370887]]]\n"
     ]
    }
   ],
   "source": [
    "# your code here\n",
    "print(a)"
   ]
  },
  {
   "cell_type": "markdown",
   "metadata": {},
   "source": [
    "#### 5. Create a 5x2x3 3-dimensional array with all values equaling 1. Assign the array to variable *b*."
   ]
  },
  {
   "cell_type": "code",
   "execution_count": 32,
   "metadata": {
    "collapsed": true
   },
   "outputs": [],
   "source": [
    "# your code here\n",
    "b = np.ones((5,2,3))\n"
   ]
  },
  {
   "cell_type": "markdown",
   "metadata": {},
   "source": [
    "#### 6. Print *b*.\n"
   ]
  },
  {
   "cell_type": "code",
   "execution_count": 33,
   "metadata": {
    "collapsed": false
   },
   "outputs": [
    {
     "name": "stdout",
     "output_type": "stream",
     "text": [
      "[[[ 1.  1.  1.]\n",
      "  [ 1.  1.  1.]]\n",
      "\n",
      " [[ 1.  1.  1.]\n",
      "  [ 1.  1.  1.]]\n",
      "\n",
      " [[ 1.  1.  1.]\n",
      "  [ 1.  1.  1.]]\n",
      "\n",
      " [[ 1.  1.  1.]\n",
      "  [ 1.  1.  1.]]\n",
      "\n",
      " [[ 1.  1.  1.]\n",
      "  [ 1.  1.  1.]]]\n"
     ]
    }
   ],
   "source": [
    "# your code here\n",
    "print(b)"
   ]
  },
  {
   "cell_type": "markdown",
   "metadata": {},
   "source": [
    "#### 7. Do *a* and *b* have the same size? How do you prove that in Python code?"
   ]
  },
  {
   "cell_type": "code",
   "execution_count": 34,
   "metadata": {
    "collapsed": false
   },
   "outputs": [
    {
     "name": "stdout",
     "output_type": "stream",
     "text": [
      "30\n",
      "30\n",
      "True\n"
     ]
    }
   ],
   "source": [
    "# your code here\n",
    "print(a.size)\n",
    "print(b.size)\n",
    "print(a.size == b.size) # Both have the same size."
   ]
  },
  {
   "cell_type": "markdown",
   "metadata": {},
   "source": [
    "#### 8. Are you able to add *a* and *b*? Why or why not?\n"
   ]
  },
  {
   "cell_type": "code",
   "execution_count": 37,
   "metadata": {
    "collapsed": false
   },
   "outputs": [
    {
     "name": "stdout",
     "output_type": "stream",
     "text": [
      "(2, 3, 5)\n",
      "(5, 2, 3)\n",
      "False\n"
     ]
    }
   ],
   "source": [
    "# your answer here\n",
    "print(a.shape)\n",
    "print(b.shape)\n",
    "print(a.shape == b.shape)\n",
    "\n",
    "# Is not posible because the arrays not fit in the shape . "
   ]
  },
  {
   "cell_type": "markdown",
   "metadata": {},
   "source": [
    "#### 9. Transpose *b* so that it has the same structure of *a* (i.e. become a 2x3x5 array). Assign the transposed array to variable *c*."
   ]
  },
  {
   "cell_type": "code",
   "execution_count": 53,
   "metadata": {
    "collapsed": false
   },
   "outputs": [
    {
     "name": "stdout",
     "output_type": "stream",
     "text": [
      "(5, 2, 3)\n",
      "(2, 3, 5)\n"
     ]
    }
   ],
   "source": [
    "# your code here\n",
    "\n",
    "c=np.array([b[i].T for i in range(5)]).T\n",
    "\n",
    "\n",
    "print(b.shape)\n",
    "print(c.shape)\n"
   ]
  },
  {
   "cell_type": "markdown",
   "metadata": {},
   "source": [
    "#### 10. Try to add *a* and *c*. Now it should work. Assign the sum to variable *d*. But why does it work now?"
   ]
  },
  {
   "cell_type": "code",
   "execution_count": 54,
   "metadata": {
    "collapsed": false
   },
   "outputs": [
    {
     "name": "stdout",
     "output_type": "stream",
     "text": [
      "[[[ 1.56739121  1.29403295  1.54607758  1.23603158  1.76343207]\n",
      "  [ 1.13693541  1.67865012  1.61191929  1.14919127  1.84679253]\n",
      "  [ 1.46448138  1.59447693  1.92626767  1.84257397  1.50750837]]\n",
      "\n",
      " [[ 1.23070866  1.72131413  1.07334796  1.00581471  1.84465431]\n",
      "  [ 1.34906584  1.70520672  1.04436775  1.0357105   1.0724948 ]\n",
      "  [ 1.36338878  1.748627    1.99431613  1.24566219  1.83370887]]]\n"
     ]
    }
   ],
   "source": [
    "# your code/answer here\n",
    "d= a + c\n",
    "print(d) # The sum is posibel because the shape of both arrays is the same\n"
   ]
  },
  {
   "cell_type": "markdown",
   "metadata": {},
   "source": [
    "#### 11. Print *a* and *d*. Notice the difference and relation of the two array in terms of the values? Explain."
   ]
  },
  {
   "cell_type": "code",
   "execution_count": 55,
   "metadata": {
    "collapsed": false
   },
   "outputs": [
    {
     "name": "stdout",
     "output_type": "stream",
     "text": [
      "[[[ 0.56739121  0.29403295  0.54607758  0.23603158  0.76343207]\n",
      "  [ 0.13693541  0.67865012  0.61191929  0.14919127  0.84679253]\n",
      "  [ 0.46448138  0.59447693  0.92626767  0.84257397  0.50750837]]\n",
      "\n",
      " [[ 0.23070866  0.72131413  0.07334796  0.00581471  0.84465431]\n",
      "  [ 0.34906584  0.70520672  0.04436775  0.0357105   0.0724948 ]\n",
      "  [ 0.36338878  0.748627    0.99431613  0.24566219  0.83370887]]]\n",
      "[[[ 1.56739121  1.29403295  1.54607758  1.23603158  1.76343207]\n",
      "  [ 1.13693541  1.67865012  1.61191929  1.14919127  1.84679253]\n",
      "  [ 1.46448138  1.59447693  1.92626767  1.84257397  1.50750837]]\n",
      "\n",
      " [[ 1.23070866  1.72131413  1.07334796  1.00581471  1.84465431]\n",
      "  [ 1.34906584  1.70520672  1.04436775  1.0357105   1.0724948 ]\n",
      "  [ 1.36338878  1.748627    1.99431613  1.24566219  1.83370887]]]\n"
     ]
    }
   ],
   "source": [
    "# your code/answer here\n",
    "print(a)\n",
    "print(d)\n",
    "\n",
    "# The items values in d-array are biggers than a-array. This is because np.random offer values bettewen 0 and 1,\n",
    "#if we remenber d-array is the result of the random values of a-array plus b-array tranpose, array in wich all items are 1.    "
   ]
  },
  {
   "cell_type": "markdown",
   "metadata": {},
   "source": [
    "#### 12. Multiply *a* and *c*. Assign the result to *e*."
   ]
  },
  {
   "cell_type": "code",
   "execution_count": 56,
   "metadata": {
    "collapsed": false
   },
   "outputs": [
    {
     "name": "stdout",
     "output_type": "stream",
     "text": [
      "[[[ 0.56739121  0.29403295  0.54607758  0.23603158  0.76343207]\n",
      "  [ 0.13693541  0.67865012  0.61191929  0.14919127  0.84679253]\n",
      "  [ 0.46448138  0.59447693  0.92626767  0.84257397  0.50750837]]\n",
      "\n",
      " [[ 0.23070866  0.72131413  0.07334796  0.00581471  0.84465431]\n",
      "  [ 0.34906584  0.70520672  0.04436775  0.0357105   0.0724948 ]\n",
      "  [ 0.36338878  0.748627    0.99431613  0.24566219  0.83370887]]]\n"
     ]
    }
   ],
   "source": [
    "# your code here\n",
    "e=a*c\n",
    "print(e)"
   ]
  },
  {
   "cell_type": "markdown",
   "metadata": {},
   "source": [
    "#### 13. Does *e* equal to *a*? Why or why not?\n"
   ]
  },
  {
   "cell_type": "code",
   "execution_count": 57,
   "metadata": {
    "collapsed": false
   },
   "outputs": [
    {
     "name": "stdout",
     "output_type": "stream",
     "text": [
      "[[[ True  True  True  True  True]\n",
      "  [ True  True  True  True  True]\n",
      "  [ True  True  True  True  True]]\n",
      "\n",
      " [[ True  True  True  True  True]\n",
      "  [ True  True  True  True  True]\n",
      "  [ True  True  True  True  True]]]\n"
     ]
    }
   ],
   "source": [
    "# your code/answer here\n",
    "print(a == e) # e and a are equal because c-array only have 1, multiplication by 1 is the same number."
   ]
  },
  {
   "cell_type": "markdown",
   "metadata": {},
   "source": [
    "#### 14. Identify the max, min, and mean values in *d*. Assign those values to variables *d_max*, *d_min* and *d_mean*."
   ]
  },
  {
   "cell_type": "code",
   "execution_count": 67,
   "metadata": {
    "collapsed": false
   },
   "outputs": [
    {
     "name": "stdout",
     "output_type": "stream",
     "text": [
      "The maximun value of d: 1.9943161303\n",
      "The minimun value of d: 1.00581471135\n",
      "The mean value of d: 1.48113835578\n"
     ]
    }
   ],
   "source": [
    "# your code here\n",
    "d_max = np.max(d)\n",
    "d_min = np.min(d)\n",
    "d_mean=np.mean(d)\n",
    "print(\"The maximun value of d:\",d_max)\n",
    "print(\"The minimun value of d:\",d_min)\n",
    "print(\"The mean value of d:\",d_mean)\n"
   ]
  },
  {
   "cell_type": "markdown",
   "metadata": {},
   "source": [
    "#### 15. Now we want to label the values in *d*. First create an empty array *f* with the same shape (i.e. 2x3x5) as *d* using `np.empty`.\n"
   ]
  },
  {
   "cell_type": "code",
   "execution_count": 79,
   "metadata": {
    "collapsed": false
   },
   "outputs": [
    {
     "name": "stdout",
     "output_type": "stream",
     "text": [
      "[[[ 0.  0.  0.  0.  0.]\n",
      "  [ 0.  0.  0.  0.  0.]\n",
      "  [ 0.  0.  0.  0.  0.]]\n",
      "\n",
      " [[ 0.  0.  0.  0.  0.]\n",
      "  [ 0.  0.  0.  0.  0.]\n",
      "  [ 0.  0.  0.  0.  0.]]]\n"
     ]
    }
   ],
   "source": [
    "# your code here\n",
    "f=np.empty([2,3,5])\n",
    "print(f)\n"
   ]
  },
  {
   "cell_type": "markdown",
   "metadata": {},
   "source": [
    "#### 16. Populate the values in *f*. \n",
    "\n",
    "For each value in *d*, if it's larger than *d_min* but smaller than *d_mean*, assign 25 to the corresponding value in *f*. If a value in *d* is larger than *d_mean* but smaller than *d_max*, assign 75 to the corresponding value in *f*. If a value equals to *d_mean*, assign 50 to the corresponding value in *f*. Assign 0 to the corresponding value(s) in *f* for *d_min* in *d*. Assign 100 to the corresponding value(s) in *f* for *d_max* in *d*. In the end, f should have only the following values: 0, 25, 50, 75, and 100.\n",
    "\n",
    "**Note**: you don't have to use Numpy in this question."
   ]
  },
  {
   "cell_type": "code",
   "execution_count": 84,
   "metadata": {
    "collapsed": false
   },
   "outputs": [],
   "source": [
    "# your code here\n",
    "\n",
    "\n",
    "for i in range(2):\n",
    "    for j in range(3):\n",
    "        for k in range(5): \n",
    "            if (d_mean > d[i,j,k] > d_min):\n",
    "                f[i,j,k] = 25\n",
    "            elif (d_max > d[i,j,k] > d_mean):\n",
    "                f[i,j,k] = 75\n",
    "            elif d[i,j,k] == d_mean:\n",
    "                f[i,j,k] = 50\n",
    "            elif d[i,j,k] == d_min:\n",
    "                 f[i,j,k] = 0\n",
    "            elif d[i,j,k] == d_max:\n",
    "                 f[i,j,k] = 100\n",
    "                    \n",
    "                   "
   ]
  },
  {
   "cell_type": "markdown",
   "metadata": {},
   "source": [
    "#### 17. Print *d* and *f*. Do you have your expected *f*?\n",
    "For instance, if your *d* is:\n",
    "```python\n",
    "[[[1.85836099, 1.67064465, 1.62576044, 1.40243961, 1.88454931],\n",
    "[1.75354326, 1.69403643, 1.36729252, 1.61415071, 1.12104981],\n",
    "[1.72201435, 1.1862918 , 1.87078449, 1.7726778 , 1.88180042]],\n",
    "[[1.44747908, 1.31673383, 1.02000951, 1.52218947, 1.97066381],\n",
    "[1.79129243, 1.74983003, 1.96028037, 1.85166831, 1.65450881],\n",
    "[1.18068344, 1.9587381 , 1.00656599, 1.93402165, 1.73514584]]]\n",
    "```\n",
    "Your *f* should be:\n",
    "```python\n",
    "[[[ 75.,  75.,  75.,  25.,  75.],\n",
    "[ 75.,  75.,  25.,  25.,  25.],\n",
    "[ 75.,  25.,  75.,  75.,  75.]],\n",
    "[[ 25.,  25.,  25.,  25., 100.],\n",
    "[ 75.,  75.,  75.,  75.,  75.],\n",
    "[ 25.,  75.,   0.,  75.,  75.]]]\n",
    "```"
   ]
  },
  {
   "cell_type": "code",
   "execution_count": 85,
   "metadata": {
    "collapsed": false
   },
   "outputs": [
    {
     "name": "stdout",
     "output_type": "stream",
     "text": [
      "[[[ 1.56739121  1.29403295  1.54607758  1.23603158  1.76343207]\n",
      "  [ 1.13693541  1.67865012  1.61191929  1.14919127  1.84679253]\n",
      "  [ 1.46448138  1.59447693  1.92626767  1.84257397  1.50750837]]\n",
      "\n",
      " [[ 1.23070866  1.72131413  1.07334796  1.00581471  1.84465431]\n",
      "  [ 1.34906584  1.70520672  1.04436775  1.0357105   1.0724948 ]\n",
      "  [ 1.36338878  1.748627    1.99431613  1.24566219  1.83370887]]]\n",
      "[[[  75.   25.   75.   25.   75.]\n",
      "  [  25.   75.   75.   25.   75.]\n",
      "  [  25.   75.   75.   75.   75.]]\n",
      "\n",
      " [[  25.   75.   25.    0.   75.]\n",
      "  [  25.   75.   25.   25.   25.]\n",
      "  [  25.   75.  100.   25.   75.]]]\n"
     ]
    }
   ],
   "source": [
    "# your code here\n",
    "print(d) \n",
    "print(f) "
   ]
  },
  {
   "cell_type": "markdown",
   "metadata": {},
   "source": [
    "#### 18. Bonus question: instead of using numbers (i.e. 0, 25, 50, 75, and 100), use string values  (\"A\", \"B\", \"C\", \"D\", and \"E\") to label the array elements. For the example above, the expected result is:\n",
    "\n",
    "```python\n",
    "[[[ 'D',  'D',  'D',  'B',  'D'],\n",
    "[ 'D',  'D',  'B',  'B',  'B'],\n",
    "[ 'D',  'B',  'D',  'D',  'D']],\n",
    "[[ 'B',  'B',  'B',  'B',  'E'],\n",
    "[ 'D',  'D',  'D',  'D',  'D'],\n",
    "[ 'B',  'D',   'A',  'D', 'D']]]\n",
    "```\n",
    "**Note**: you don't have to use Numpy in this question."
   ]
  },
  {
   "cell_type": "code",
   "execution_count": 92,
   "metadata": {
    "collapsed": false
   },
   "outputs": [
    {
     "name": "stdout",
     "output_type": "stream",
     "text": [
      "[[[ 1.56739121  1.29403295  1.54607758  1.23603158  1.76343207]\n",
      "  [ 1.13693541  1.67865012  1.61191929  1.14919127  1.84679253]\n",
      "  [ 1.46448138  1.59447693  1.92626767  1.84257397  1.50750837]]\n",
      "\n",
      " [[ 1.23070866  1.72131413  1.07334796  1.00581471  1.84465431]\n",
      "  [ 1.34906584  1.70520672  1.04436775  1.0357105   1.0724948 ]\n",
      "  [ 1.36338878  1.748627    1.99431613  1.24566219  1.83370887]]]\n",
      "[[['D' 'B' 'D' 'B' 'D']\n",
      "  ['B' 'D' 'D' 'B' 'D']\n",
      "  ['B' 'D' 'D' 'D' 'D']]\n",
      "\n",
      " [['B' 'D' 'B' 'A' 'D']\n",
      "  ['B' 'D' 'B' 'B' 'B']\n",
      "  ['B' 'D' 'E' 'B' 'D']]]\n"
     ]
    }
   ],
   "source": [
    "# your code here\n",
    "\n",
    "f_list=list(f)\n",
    "\n",
    "for i in range(2):\n",
    "    f_list[i]=list(f_list[i])\n",
    "    for j in range(3):\n",
    "        f_list[i][j]=list(f_list[i][j])\n",
    "       \n",
    "\n",
    "for i in range(2):\n",
    "    for j in range(3):\n",
    "        for k in range(5): \n",
    "            if (d_mean > d[i,j,k] > d_min):\n",
    "                f_list[i][j][k] = \"B\"\n",
    "            elif (d_max > d[i,j,k] > d_mean):\n",
    "                f_list[i][j][k] = \"D\"\n",
    "            elif d[i,j,k] == d_mean:\n",
    "                f_list[i][j][k] = \"C\"\n",
    "            elif d[i,j,k] == d_min:\n",
    "                 f_list[i][j][k] = \"A\"\n",
    "            elif d[i,j,k] == d_max:\n",
    "                 f_list[i][j][k] = \"E\"\n",
    "print(d)\n",
    "print(np.array(f_list))"
   ]
  },
  {
   "cell_type": "code",
   "execution_count": null,
   "metadata": {
    "collapsed": true
   },
   "outputs": [],
   "source": []
  }
 ],
 "metadata": {
  "kernelspec": {
   "display_name": "Python 3",
   "language": "python",
   "name": "python3"
  },
  "language_info": {
   "codemirror_mode": {
    "name": "ipython",
    "version": 3
   },
   "file_extension": ".py",
   "mimetype": "text/x-python",
   "name": "python",
   "nbconvert_exporter": "python",
   "pygments_lexer": "ipython3",
   "version": "3.5.1"
  }
 },
 "nbformat": 4,
 "nbformat_minor": 2
}
