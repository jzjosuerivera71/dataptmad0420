{
 "cells": [
  {
   "cell_type": "markdown",
   "metadata": {},
   "source": [
    "# Plotting Multiple Data Series\n",
    "\n",
    "Complete the following set of exercises to solidify your knowledge of plotting multiple data series with pandas, matplotlib, and seaborn. Part of the challenge that comes with plotting multiple data series is transforming the data into the form needed to visualize it like you want. For some of the exercises in this lab, you will need to transform the data into the form most appropriate for generating the visualization and then create the plot."
   ]
  },
  {
   "cell_type": "code",
   "execution_count": 1,
   "metadata": {},
   "outputs": [],
   "source": [
    "import numpy as np\n",
    "import pandas as pd\n",
    "import matplotlib.pyplot as plt\n",
    "import seaborn as sns\n",
    "import warnings\n",
    "\n",
    "warnings.filterwarnings('ignore')\n",
    "%matplotlib inline"
   ]
  },
  {
   "cell_type": "code",
   "execution_count": 2,
   "metadata": {},
   "outputs": [
    {
     "data": {
      "text/html": [
       "<div>\n",
       "<style scoped>\n",
       "    .dataframe tbody tr th:only-of-type {\n",
       "        vertical-align: middle;\n",
       "    }\n",
       "\n",
       "    .dataframe tbody tr th {\n",
       "        vertical-align: top;\n",
       "    }\n",
       "\n",
       "    .dataframe thead th {\n",
       "        text-align: right;\n",
       "    }\n",
       "</style>\n",
       "<table border=\"1\" class=\"dataframe\">\n",
       "  <thead>\n",
       "    <tr style=\"text-align: right;\">\n",
       "      <th></th>\n",
       "      <th>Year</th>\n",
       "      <th>Month</th>\n",
       "      <th>Supplier</th>\n",
       "      <th>ItemCode</th>\n",
       "      <th>Description</th>\n",
       "      <th>ItemType</th>\n",
       "      <th>RetailSales</th>\n",
       "      <th>RetailTransfers</th>\n",
       "      <th>WarehouseSales</th>\n",
       "    </tr>\n",
       "  </thead>\n",
       "  <tbody>\n",
       "    <tr>\n",
       "      <th>0</th>\n",
       "      <td>2017</td>\n",
       "      <td>4</td>\n",
       "      <td>ROYAL WINE CORP</td>\n",
       "      <td>100200</td>\n",
       "      <td>GAMLA CAB - 750ML</td>\n",
       "      <td>WINE</td>\n",
       "      <td>0.0</td>\n",
       "      <td>1.0</td>\n",
       "      <td>0.0</td>\n",
       "    </tr>\n",
       "    <tr>\n",
       "      <th>1</th>\n",
       "      <td>2017</td>\n",
       "      <td>4</td>\n",
       "      <td>SANTA MARGHERITA USA INC</td>\n",
       "      <td>100749</td>\n",
       "      <td>SANTA MARGHERITA P/GRIG ALTO - 375ML</td>\n",
       "      <td>WINE</td>\n",
       "      <td>0.0</td>\n",
       "      <td>1.0</td>\n",
       "      <td>0.0</td>\n",
       "    </tr>\n",
       "    <tr>\n",
       "      <th>2</th>\n",
       "      <td>2017</td>\n",
       "      <td>4</td>\n",
       "      <td>JIM BEAM BRANDS CO</td>\n",
       "      <td>10103</td>\n",
       "      <td>KNOB CREEK BOURBON 9YR - 100P - 375ML</td>\n",
       "      <td>LIQUOR</td>\n",
       "      <td>0.0</td>\n",
       "      <td>8.0</td>\n",
       "      <td>0.0</td>\n",
       "    </tr>\n",
       "    <tr>\n",
       "      <th>3</th>\n",
       "      <td>2017</td>\n",
       "      <td>4</td>\n",
       "      <td>HEAVEN HILL DISTILLERIES INC</td>\n",
       "      <td>10120</td>\n",
       "      <td>J W DANT BOURBON 100P - 1.75L</td>\n",
       "      <td>LIQUOR</td>\n",
       "      <td>0.0</td>\n",
       "      <td>2.0</td>\n",
       "      <td>0.0</td>\n",
       "    </tr>\n",
       "    <tr>\n",
       "      <th>4</th>\n",
       "      <td>2017</td>\n",
       "      <td>4</td>\n",
       "      <td>ROYAL WINE CORP</td>\n",
       "      <td>101664</td>\n",
       "      <td>RAMON CORDOVA RIOJA - 750ML</td>\n",
       "      <td>WINE</td>\n",
       "      <td>0.0</td>\n",
       "      <td>4.0</td>\n",
       "      <td>0.0</td>\n",
       "    </tr>\n",
       "  </tbody>\n",
       "</table>\n",
       "</div>"
      ],
      "text/plain": [
       "   Year  Month                      Supplier ItemCode  \\\n",
       "0  2017      4               ROYAL WINE CORP   100200   \n",
       "1  2017      4      SANTA MARGHERITA USA INC   100749   \n",
       "2  2017      4            JIM BEAM BRANDS CO    10103   \n",
       "3  2017      4  HEAVEN HILL DISTILLERIES INC    10120   \n",
       "4  2017      4               ROYAL WINE CORP   101664   \n",
       "\n",
       "                             Description ItemType  RetailSales  \\\n",
       "0                      GAMLA CAB - 750ML     WINE          0.0   \n",
       "1   SANTA MARGHERITA P/GRIG ALTO - 375ML     WINE          0.0   \n",
       "2  KNOB CREEK BOURBON 9YR - 100P - 375ML   LIQUOR          0.0   \n",
       "3          J W DANT BOURBON 100P - 1.75L   LIQUOR          0.0   \n",
       "4            RAMON CORDOVA RIOJA - 750ML     WINE          0.0   \n",
       "\n",
       "   RetailTransfers  WarehouseSales  \n",
       "0              1.0             0.0  \n",
       "1              1.0             0.0  \n",
       "2              8.0             0.0  \n",
       "3              2.0             0.0  \n",
       "4              4.0             0.0  "
      ]
     },
     "execution_count": 2,
     "metadata": {},
     "output_type": "execute_result"
    }
   ],
   "source": [
    "df = pd.read_csv('../data/liquor_store_sales.csv')\n",
    "\n",
    "df.head()\n"
   ]
  },
  {
   "cell_type": "markdown",
   "metadata": {},
   "source": [
    "## 1. Create a bar chart with bars for total Retail Sales, Retail Transfers, and Warehouse Sales by Item Type."
   ]
  },
  {
   "cell_type": "code",
   "execution_count": 6,
   "metadata": {},
   "outputs": [
    {
     "name": "stdout",
     "output_type": "stream",
     "text": [
      "[309847.85000000003, 0.0, 8109.970000000001, 281.34, 209763.11, 995.98, 313400.42, 0.0]\n",
      "[334176.41000000003, 0.0, 9058.369999999999, 171.92000000000002, 234924.44, 3594.7000000000003, 340710.51, 0.0]\n",
      "[33173.32, 43558.0, 8656.720000000001, -6754.0, 2437617.3199999994, 0.0, 433009.47000000003, -45331.0]\n"
     ]
    },
    {
     "data": {
      "image/png": "[encoded data removed]",
      "text/plain": [
       "<Figure size 432x288 with 1 Axes>"
      ]
     },
     "metadata": {
      "needs_background": "light"
     },
     "output_type": "display_data"
    }
   ],
   "source": [
    "ItemType_lst = list(set(df['ItemType']))\n",
    "\n",
    "# Clean the set\n",
    "ItemType_lst.remove(ItemType_lst[0])\n",
    "\n",
    "# Initialization\n",
    "TotalRetailSales_lst=[]\n",
    "TotalRetailTransfers_lst=[]\n",
    "TotalWarehouseSales_lst=[]\n",
    "\n",
    "# Groping by Item Type\n",
    "gk = df.groupby(['ItemType']) \n",
    "\n",
    "\n",
    "for i in ItemType_lst:\n",
    "    total_RetailSales = gk.get_group(i)['RetailSales'].sum()\n",
    "    total_RetailTransfers = gk.get_group(i)['RetailTransfers'].sum()\n",
    "    total_WarehouseSales = gk.get_group(i)['WarehouseSales'].sum()\n",
    "    # Creating the list with the totals by Item type\n",
    "    TotalRetailSales_lst.append(total_RetailSales)\n",
    "    TotalRetailTransfers_lst.append(total_RetailTransfers)\n",
    "    TotalWarehouseSales_lst.append(total_WarehouseSales)\n",
    "    \n",
    "    \n",
    "\n",
    "print(TotalRetailSales_lst)\n",
    "print(TotalRetailTransfers_lst)\n",
    "print(TotalWarehouseSales_lst)\n",
    "\n",
    "\n",
    "#fig = plt.figure(figsize=(32,8))\n",
    "\n",
    "fig = plt.figure()\n",
    "ax = fig.add_axes([0,0,1,1])\n",
    "students = TotalRetailSales_lst\n",
    "ax.bar(ItemType_lst,TotalRetailSales_lst)\n",
    "ax.bar(ItemType_lst,TotalRetailTransfers_lst)\n",
    "ax.bar(ItemType_lst,TotalWarehouseSales_lst)\n",
    "plt.show()\n"
   ]
  },
  {
   "cell_type": "markdown",
   "metadata": {},
   "source": [
    "## 2. Create a horizontal bar chart showing sales mix for the top 10 suppliers with the most total sales. "
   ]
  },
  {
   "cell_type": "code",
   "execution_count": 5,
   "metadata": {},
   "outputs": [
    {
     "data": {
      "text/plain": [
       "<pandas.core.groupby.generic.SeriesGroupBy object at 0x7f565349e810>"
      ]
     },
     "execution_count": 5,
     "metadata": {},
     "output_type": "execute_result"
    }
   ],
   "source": [
    "#x =data['RetailSales'].sort_values(ascending=True)\n",
    "\n",
    "\n",
    "\n",
    "#y =data['RetailTransfers'].sort_values(ascending=False)\n",
    "#z =data['WarehouseSales'].sort_values(ascending=False)\n",
    "\n",
    "#amount_supliers = len(set(data['Supplier'])) \n",
    "\n",
    "#y = data['Suppliers','RetailTransfers']  #.sort_values(ascending=False)\n",
    "\n",
    "#z =data['WarehouseSales'].sort_values(ascending=False)\n",
    "#y\n",
    "\n",
    "data_2 = data.groupby(by='Supplier')['WarehouseSales']\n",
    "\n",
    "#.plot.barh()\n",
    "data_2 \n",
    "\n",
    "\n",
    "ItemType_lst = list(set(data['ItemType']))\n",
    "\n",
    "# Clean the set\n",
    "ItemType_lst.remove(ItemType_lst[0])\n",
    "\n",
    "# Initialization\n",
    "TotalRetailSales_lst=[]\n",
    "TotalRetailTransfers_lst=[]\n",
    "TotalWarehouseSales_lst=[]\n",
    "\n",
    "# Groping by Item Type\n",
    "gk = data.groupby(['ItemType']) \n",
    "\n",
    "\n",
    "for i in ItemType_lst:\n",
    "    total_RetailSales = gk.get_group(i)['RetailSales'].sum()\n",
    "    total_RetailTransfers = gk.get_group(i)['RetailTransfers'].sum()\n",
    "    total_WarehouseSales = gk.get_group(i)['WarehouseSales'].sum()\n",
    "    # Creating the list with the totals by Item type\n",
    "    TotalRetailSales_lst.append(total_RetailSales)\n",
    "    TotalRetailTransfers_lst.append(total_RetailTransfers)\n",
    "    TotalWarehouseSales_lst.append(total_WarehouseSales)\n",
    "    \n",
    "    \n",
    "\n",
    "print(TotalRetailSales_lst)\n",
    "print(TotalRetailTransfers_lst)\n",
    "print(TotalWarehouseSales_lst)"
   ]
  },
  {
   "cell_type": "markdown",
   "metadata": {},
   "source": [
    "## 3. Create a multi-line chart that shows average Retail Sales, Retail Transfers, and Warehouse Sales per month over time."
   ]
  },
  {
   "cell_type": "code",
   "execution_count": 5,
   "metadata": {},
   "outputs": [
    {
     "ename": "IndentationError",
     "evalue": "unexpected indent (<ipython-input-5-033bca0285e7>, line 25)",
     "output_type": "error",
     "traceback": [
      "\u001b[0;36m  File \u001b[0;32m\"<ipython-input-5-033bca0285e7>\"\u001b[0;36m, line \u001b[0;32m25\u001b[0m\n\u001b[0;31m    Max Speed\u001b[0m\n\u001b[0m    ^\u001b[0m\n\u001b[0;31mIndentationError\u001b[0m\u001b[0;31m:\u001b[0m unexpected indent\n"
     ]
    }
   ],
   "source": [
    "y1 =np.array(data['RetailSales'])\n",
    "y2 =np.array(data['RetailTransfers'])\n",
    "y3 =np.array(data['WarehouseSales'])\n",
    "\n",
    "x=np.array(data['Month'])\n",
    "\n",
    "plt.plot(x,y1,'--')\n",
    "plt.plot(x,y2,'--')\n",
    "plt.plot(x,y3,'--')\n",
    "\n",
    "##################\n",
    "\n",
    "arrays = [['Falcon', 'Falcon', 'Parrot', 'Parrot'],\n",
    "\n",
    "          ['Captive', 'Wild', 'Captive', 'Wild']]\n",
    "\n",
    "index = pd.MultiIndex.from_arrays(arrays, names=('Animal', 'Type'))\n",
    "\n",
    "df = pd.DataFrame({'Max Speed': [390., 350., 30., 20.]},\n",
    "\n",
    "                  index=index)\n",
    "\n",
    "\n",
    "df.groupby(level=0).mean()\n",
    "        Max Speed\n",
    "\n",
    "\n",
    "df.groupby(level=\"Type\").mean()\n",
    "         Max Speed\n",
    "\n",
    "\n"
   ]
  },
  {
   "cell_type": "markdown",
   "metadata": {},
   "source": [
    "## 4. Plot the same information as above but as a bar chart."
   ]
  },
  {
   "cell_type": "code",
   "execution_count": null,
   "metadata": {},
   "outputs": [],
   "source": []
  },
  {
   "cell_type": "markdown",
   "metadata": {},
   "source": [
    "## 5. Create a multi-line chart that shows Retail Sales summed by Item Type over time (Year & Month).\n",
    "\n",
    "*Hint: There should be a line representing each Item Type.*"
   ]
  },
  {
   "cell_type": "code",
   "execution_count": null,
   "metadata": {},
   "outputs": [],
   "source": []
  },
  {
   "cell_type": "markdown",
   "metadata": {},
   "source": [
    "## 6. Plot the same information as above but as a bar chart."
   ]
  },
  {
   "cell_type": "code",
   "execution_count": null,
   "metadata": {},
   "outputs": [],
   "source": []
  },
  {
   "cell_type": "markdown",
   "metadata": {},
   "source": [
    "## 7. Create a scatter plot showing the relationship between Retail Sales (x-axis) and Retail Transfers (y-axis) with the plot points color-coded according to their Item Type.\n",
    "\n",
    "*Hint: Seaborn's lmplot is the easiest way to generate the scatter plot.*"
   ]
  },
  {
   "cell_type": "code",
   "execution_count": null,
   "metadata": {},
   "outputs": [],
   "source": []
  },
  {
   "cell_type": "markdown",
   "metadata": {},
   "source": [
    "## 8. Create a scatter matrix using all the numeric fields in the data set with the plot points color-coded by Item Type.\n",
    "\n",
    "*Hint: Seaborn's pairplot may be your best option here.*"
   ]
  },
  {
   "cell_type": "code",
   "execution_count": null,
   "metadata": {},
   "outputs": [],
   "source": []
  }
 ],
 "metadata": {
  "kernelspec": {
   "display_name": "Python 3",
   "language": "python",
   "name": "python3"
  },
  "language_info": {
   "codemirror_mode": {
    "name": "ipython",
    "version": 3
   },
   "file_extension": ".py",
   "mimetype": "text/x-python",
   "name": "python",
   "nbconvert_exporter": "python",
   "pygments_lexer": "ipython3",
   "version": "3.7.7"
  }
 },
 "nbformat": 4,
 "nbformat_minor": 2
}
