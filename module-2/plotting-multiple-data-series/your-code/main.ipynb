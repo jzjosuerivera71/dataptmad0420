{
 "cells": [
  {
   "cell_type": "markdown",
   "metadata": {},
   "source": [
    "# Plotting Multiple Data Series\n",
    "\n",
    "Complete the following set of exercises to solidify your knowledge of plotting multiple data series with pandas, matplotlib, and seaborn. Part of the challenge that comes with plotting multiple data series is transforming the data into the form needed to visualize it like you want. For some of the exercises in this lab, you will need to transform the data into the form most appropriate for generating the visualization and then create the plot."
   ]
  },
  {
   "cell_type": "code",
   "execution_count": 1,
   "metadata": {},
   "outputs": [],
   "source": [
    "import numpy as np\n",
    "import pandas as pd\n",
    "import matplotlib.pyplot as plt\n",
    "import seaborn as sns\n",
    "import warnings\n",
    "\n",
    "warnings.filterwarnings('ignore')\n",
    "%matplotlib inline"
   ]
  },
  {
   "cell_type": "code",
   "execution_count": 2,
   "metadata": {},
   "outputs": [
    {
     "data": {
      "text/html": [
       "<div>\n",
       "<style scoped>\n",
       "    .dataframe tbody tr th:only-of-type {\n",
       "        vertical-align: middle;\n",
       "    }\n",
       "\n",
       "    .dataframe tbody tr th {\n",
       "        vertical-align: top;\n",
       "    }\n",
       "\n",
       "    .dataframe thead th {\n",
       "        text-align: right;\n",
       "    }\n",
       "</style>\n",
       "<table border=\"1\" class=\"dataframe\">\n",
       "  <thead>\n",
       "    <tr style=\"text-align: right;\">\n",
       "      <th></th>\n",
       "      <th>Year</th>\n",
       "      <th>Month</th>\n",
       "      <th>Supplier</th>\n",
       "      <th>ItemCode</th>\n",
       "      <th>Description</th>\n",
       "      <th>ItemType</th>\n",
       "      <th>RetailSales</th>\n",
       "      <th>RetailTransfers</th>\n",
       "      <th>WarehouseSales</th>\n",
       "    </tr>\n",
       "  </thead>\n",
       "  <tbody>\n",
       "    <tr>\n",
       "      <th>0</th>\n",
       "      <td>2017</td>\n",
       "      <td>4</td>\n",
       "      <td>ROYAL WINE CORP</td>\n",
       "      <td>100200</td>\n",
       "      <td>GAMLA CAB - 750ML</td>\n",
       "      <td>WINE</td>\n",
       "      <td>0.0</td>\n",
       "      <td>1.0</td>\n",
       "      <td>0.0</td>\n",
       "    </tr>\n",
       "    <tr>\n",
       "      <th>1</th>\n",
       "      <td>2017</td>\n",
       "      <td>4</td>\n",
       "      <td>SANTA MARGHERITA USA INC</td>\n",
       "      <td>100749</td>\n",
       "      <td>SANTA MARGHERITA P/GRIG ALTO - 375ML</td>\n",
       "      <td>WINE</td>\n",
       "      <td>0.0</td>\n",
       "      <td>1.0</td>\n",
       "      <td>0.0</td>\n",
       "    </tr>\n",
       "    <tr>\n",
       "      <th>2</th>\n",
       "      <td>2017</td>\n",
       "      <td>4</td>\n",
       "      <td>JIM BEAM BRANDS CO</td>\n",
       "      <td>10103</td>\n",
       "      <td>KNOB CREEK BOURBON 9YR - 100P - 375ML</td>\n",
       "      <td>LIQUOR</td>\n",
       "      <td>0.0</td>\n",
       "      <td>8.0</td>\n",
       "      <td>0.0</td>\n",
       "    </tr>\n",
       "    <tr>\n",
       "      <th>3</th>\n",
       "      <td>2017</td>\n",
       "      <td>4</td>\n",
       "      <td>HEAVEN HILL DISTILLERIES INC</td>\n",
       "      <td>10120</td>\n",
       "      <td>J W DANT BOURBON 100P - 1.75L</td>\n",
       "      <td>LIQUOR</td>\n",
       "      <td>0.0</td>\n",
       "      <td>2.0</td>\n",
       "      <td>0.0</td>\n",
       "    </tr>\n",
       "    <tr>\n",
       "      <th>4</th>\n",
       "      <td>2017</td>\n",
       "      <td>4</td>\n",
       "      <td>ROYAL WINE CORP</td>\n",
       "      <td>101664</td>\n",
       "      <td>RAMON CORDOVA RIOJA - 750ML</td>\n",
       "      <td>WINE</td>\n",
       "      <td>0.0</td>\n",
       "      <td>4.0</td>\n",
       "      <td>0.0</td>\n",
       "    </tr>\n",
       "  </tbody>\n",
       "</table>\n",
       "</div>"
      ],
      "text/plain": [
       "   Year  Month                      Supplier ItemCode  \\\n",
       "0  2017      4               ROYAL WINE CORP   100200   \n",
       "1  2017      4      SANTA MARGHERITA USA INC   100749   \n",
       "2  2017      4            JIM BEAM BRANDS CO    10103   \n",
       "3  2017      4  HEAVEN HILL DISTILLERIES INC    10120   \n",
       "4  2017      4               ROYAL WINE CORP   101664   \n",
       "\n",
       "                             Description ItemType  RetailSales  \\\n",
       "0                      GAMLA CAB - 750ML     WINE          0.0   \n",
       "1   SANTA MARGHERITA P/GRIG ALTO - 375ML     WINE          0.0   \n",
       "2  KNOB CREEK BOURBON 9YR - 100P - 375ML   LIQUOR          0.0   \n",
       "3          J W DANT BOURBON 100P - 1.75L   LIQUOR          0.0   \n",
       "4            RAMON CORDOVA RIOJA - 750ML     WINE          0.0   \n",
       "\n",
       "   RetailTransfers  WarehouseSales  \n",
       "0              1.0             0.0  \n",
       "1              1.0             0.0  \n",
       "2              8.0             0.0  \n",
       "3              2.0             0.0  \n",
       "4              4.0             0.0  "
      ]
     },
     "execution_count": 2,
     "metadata": {},
     "output_type": "execute_result"
    }
   ],
   "source": [
    "df = pd.read_csv('../data/liquor_store_sales.csv')\n",
    "\n",
    "df.head()\n"
   ]
  },
  {
   "cell_type": "markdown",
   "metadata": {},
   "source": [
    "## 1. Create a bar chart with bars for total Retail Sales, Retail Transfers, and Warehouse Sales by Item Type."
   ]
  },
  {
   "cell_type": "code",
   "execution_count": 6,
   "metadata": {},
   "outputs": [
    {
     "name": "stdout",
     "output_type": "stream",
     "text": [
      "[0.0, 0.0, 8109.970000000001, 995.98, 309847.85000000003, 281.34, 313400.42, 209763.11]\n",
      "[0.0, 0.0, 9058.369999999999, 3594.7000000000003, 334176.41000000003, 171.92000000000002, 340710.51, 234924.44]\n",
      "[43558.0, -45331.0, 8656.720000000001, 0.0, 33173.32, -6754.0, 433009.47000000003, 2437617.3199999994]\n"
     ]
    },
    {
     "data": {
      "image/png": "[encoded data removed]",
      "text/plain": [
       "<Figure size 864x432 with 1 Axes>"
      ]
     },
     "metadata": {
      "needs_background": "light"
     },
     "output_type": "display_data"
    }
   ],
   "source": [
    "#https://pythonspot.com/matplotlib-bar-chart/\n",
    "\n",
    "ItemType_lst = list(set(df['ItemType']))\n",
    "\n",
    "# Clean the set\n",
    "\n",
    "ItemType_lst.remove(ItemType_lst[2])\n",
    "\n",
    "# Initialization\n",
    "TotalRetailSales_lst=[]\n",
    "TotalRetailTransfers_lst=[]\n",
    "TotalWarehouseSales_lst=[]\n",
    "\n",
    "# Groping by Item Type\n",
    "gk = df.groupby(['ItemType']) \n",
    "\n",
    "\n",
    "for i in ItemType_lst:\n",
    "    total_RetailSales = gk.get_group(i)['RetailSales'].sum()\n",
    "    total_RetailTransfers = gk.get_group(i)['RetailTransfers'].sum()\n",
    "    total_WarehouseSales = gk.get_group(i)['WarehouseSales'].sum()\n",
    "    # Creating the list with the totals by Item type\n",
    "    TotalRetailSales_lst.append(total_RetailSales)\n",
    "    TotalRetailTransfers_lst.append(total_RetailTransfers)\n",
    "    TotalWarehouseSales_lst.append(total_WarehouseSales)\n",
    "    \n",
    "    \n",
    "\n",
    "print(TotalRetailSales_lst)\n",
    "print(TotalRetailTransfers_lst)\n",
    "print(TotalWarehouseSales_lst)\n",
    "\n",
    "# Ploting\n",
    "n_groups = 8\n",
    "\n",
    "# create plot\n",
    "fig,ax = plt.subplots(figsize=(12,6))\n",
    "index = np.arange(n_groups)\n",
    "bar_width = 0.35\n",
    "opacity = 0.8\n",
    "\n",
    "\n",
    "rects1 = plt.bar(index,TotalRetailSales_lst, bar_width,\n",
    "alpha=opacity,\n",
    "color='b',\n",
    "label='TotalRetailSales')\n",
    "\n",
    "rects2 = plt.bar(index + bar_width,TotalRetailTransfers_lst, bar_width,\n",
    "alpha=opacity,\n",
    "color='g',\n",
    "label='TotalRetailTransfers')\n",
    "\n",
    "rects3 = plt.bar(index + 2*bar_width,TotalWarehouseSales_lst, bar_width,\n",
    "alpha=opacity,\n",
    "color='r',\n",
    "label='TotalWarehouseSales')\n",
    "\n",
    "plt.xlabel('Item')\n",
    "plt.ylabel('Total')\n",
    "plt.title('Total Retail Sales, Retail Transfers, and Warehouse Sales by Item Type')\n",
    "plt.xticks(index + bar_width, tuple(ItemType_lst))\n",
    "plt.legend()\n",
    "\n",
    "plt.tight_layout()\n",
    "plt.show()\n",
    "\n"
   ]
  },
  {
   "cell_type": "markdown",
   "metadata": {},
   "source": [
    "## 2. Create a horizontal bar chart showing sales mix for the top 10 suppliers with the most total sales. "
   ]
  },
  {
   "cell_type": "code",
   "execution_count": 7,
   "metadata": {},
   "outputs": [
    {
     "data": {
      "image/png": "[encoded data removed]",
      "text/plain": [
       "<Figure size 432x288 with 1 Axes>"
      ]
     },
     "metadata": {
      "needs_background": "light"
     },
     "output_type": "display_data"
    }
   ],
   "source": [
    "#https://pythonspot.com/matplotlib-bar-chart/\n",
    "\n",
    "#Calculating sales mix\n",
    "df['sales_mix'] = df['RetailSales']+df['RetailTransfers']+df['WarehouseSales']\n",
    "\n",
    "# Groping by Supplier\n",
    "gk = df.groupby(['Supplier'])['sales_mix']\n",
    "\n",
    "# Create ordered serie\n",
    "ordered_serie = gk.count().sort_values(ascending=False)\n",
    "\n",
    "top10 = ordered_serie.head(10).reset_index()\n",
    "\n",
    "#Ploting\n",
    "\n",
    "tuple(top10['Supplier'])\n",
    "\n",
    "objects = tuple(top10['Supplier'])\n",
    "y_pos = np.arange(len(objects))\n",
    "performance = list(top10['sales_mix'])\n",
    "\n",
    "plt.barh(y_pos, performance, align='center', alpha=0.5)\n",
    "plt.yticks(y_pos, objects)\n",
    "plt.xlabel('Amount')\n",
    "plt.title('Sales mix for the top 10 suppliers with the most total sales.')\n",
    "\n",
    "plt.show()\n"
   ]
  },
  {
   "cell_type": "markdown",
   "metadata": {},
   "source": [
    "## 3. Create a multi-line chart that shows average Retail Sales, Retail Transfers, and Warehouse Sales per month over time."
   ]
  },
  {
   "cell_type": "code",
   "execution_count": 28,
   "metadata": {},
   "outputs": [
    {
     "data": {
      "image/png": "[encoded data removed]",
      "text/plain": [
       "<Figure size 864x432 with 1 Axes>"
      ]
     },
     "metadata": {
      "needs_background": "light"
     },
     "output_type": "display_data"
    }
   ],
   "source": [
    "\n",
    "# Groping by Month\n",
    "\n",
    "gk = df.groupby(['Month'])['RetailSales','RetailTransfers','WarehouseSales']\n",
    "\n",
    "# Create  serie\n",
    "Serie = gk.first()\n",
    "\n",
    "Data = Serie.reset_index()\n",
    "\n",
    "fig,ax = plt.subplots(figsize=(12,6))\n",
    "\n",
    "ax.plot(Data['Month'],Data['RetailSales'],'b',label='RetailSales')\n",
    "ax.plot(Data['Month'],Data['RetailTransfers'],'r',label='RetailTransfers')\n",
    "ax.plot(Data['Month'],Data['WarehouseSales'],'g',label='WarehouseSales')\n",
    "ax.legend()\n",
    "\n",
    "\n",
    "plt.ylim(0,10)\n",
    "plt.show()\n",
    "#fig,ax = plt.subplots(3)\n",
    "\n",
    "#ax[0].plot(Data['Month'],Data['RetailSales'],'b')\n",
    "#ax[1].plot(Data['Month'],Data['RetailTransfers'],'r')\n",
    "#ax[2].plot(Data['Month'],Data['WarehouseSales'],'y')\n"
   ]
  },
  {
   "cell_type": "markdown",
   "metadata": {},
   "source": [
    "## 4. Plot the same information as above but as a bar chart."
   ]
  },
  {
   "cell_type": "code",
   "execution_count": 29,
   "metadata": {},
   "outputs": [
    {
     "data": {
      "image/png": "[encoded data removed]",
      "text/plain": [
       "<Figure size 864x432 with 1 Axes>"
      ]
     },
     "metadata": {
      "needs_background": "light"
     },
     "output_type": "display_data"
    }
   ],
   "source": [
    "# Data\n",
    "data1 = Data['RetailSales']\n",
    "data2 = Data['RetailTransfers']\n",
    "data3 = Data['WarehouseSales']\n",
    "\n",
    "\n",
    "width =0.3\n",
    "\n",
    "fig,ax = plt.subplots(figsize=(12,6))\n",
    "ax.bar(np.array(Data['Month']), data1, width=width,label='RetailSales')\n",
    "ax.bar(np.array(Data['Month'])+ width, data2, width=width,label='RetailTransfers')\n",
    "ax.bar(np.array(Data['Month'])+ 2*width, data3, width=width,label='WarehouseSales')\n",
    "ax.legend()\n",
    "\n",
    "plt.ylim(0,10)\n",
    "plt.show()\n",
    "\n",
    "#https://pythonbasics.org/matplotlib-bar-chart/\n",
    "# https://pythonbasics.org/seaborn-barplot/ , para la tarea de matplotlib"
   ]
  },
  {
   "cell_type": "markdown",
   "metadata": {},
   "source": [
    "## 5. Create a multi-line chart that shows Retail Sales summed by Item Type over time (Year & Month).\n",
    "\n",
    "*Hint: There should be a line representing each Item Type.*"
   ]
  },
  {
   "cell_type": "code",
   "execution_count": 44,
   "metadata": {},
   "outputs": [
    {
     "data": {
      "text/html": [
       "<div>\n",
       "<style scoped>\n",
       "    .dataframe tbody tr th:only-of-type {\n",
       "        vertical-align: middle;\n",
       "    }\n",
       "\n",
       "    .dataframe tbody tr th {\n",
       "        vertical-align: top;\n",
       "    }\n",
       "\n",
       "    .dataframe thead th {\n",
       "        text-align: right;\n",
       "    }\n",
       "</style>\n",
       "<table border=\"1\" class=\"dataframe\">\n",
       "  <thead>\n",
       "    <tr style=\"text-align: right;\">\n",
       "      <th></th>\n",
       "      <th></th>\n",
       "      <th>Month</th>\n",
       "      <th>RetailSales</th>\n",
       "    </tr>\n",
       "    <tr>\n",
       "      <th>ItemType</th>\n",
       "      <th>Year</th>\n",
       "      <th></th>\n",
       "      <th></th>\n",
       "    </tr>\n",
       "  </thead>\n",
       "  <tbody>\n",
       "    <tr>\n",
       "      <th rowspan=\"2\" valign=\"top\">BEER</th>\n",
       "      <th>2017</th>\n",
       "      <td>4</td>\n",
       "      <td>615</td>\n",
       "    </tr>\n",
       "    <tr>\n",
       "      <th>2018</th>\n",
       "      <td>1</td>\n",
       "      <td>1707</td>\n",
       "    </tr>\n",
       "    <tr>\n",
       "      <th rowspan=\"2\" valign=\"top\">DUNNAGE</th>\n",
       "      <th>2017</th>\n",
       "      <td>6</td>\n",
       "      <td>4</td>\n",
       "    </tr>\n",
       "    <tr>\n",
       "      <th>2018</th>\n",
       "      <td>1</td>\n",
       "      <td>4</td>\n",
       "    </tr>\n",
       "    <tr>\n",
       "      <th rowspan=\"2\" valign=\"top\">KEGS</th>\n",
       "      <th>2017</th>\n",
       "      <td>6</td>\n",
       "      <td>484</td>\n",
       "    </tr>\n",
       "    <tr>\n",
       "      <th>2018</th>\n",
       "      <td>1</td>\n",
       "      <td>433</td>\n",
       "    </tr>\n",
       "    <tr>\n",
       "      <th rowspan=\"2\" valign=\"top\">LIQUOR</th>\n",
       "      <th>2017</th>\n",
       "      <td>4</td>\n",
       "      <td>1721</td>\n",
       "    </tr>\n",
       "    <tr>\n",
       "      <th>2018</th>\n",
       "      <td>1</td>\n",
       "      <td>3013</td>\n",
       "    </tr>\n",
       "    <tr>\n",
       "      <th rowspan=\"2\" valign=\"top\">NON-ALCOHOL</th>\n",
       "      <th>2017</th>\n",
       "      <td>4</td>\n",
       "      <td>52</td>\n",
       "    </tr>\n",
       "    <tr>\n",
       "      <th>2018</th>\n",
       "      <td>1</td>\n",
       "      <td>71</td>\n",
       "    </tr>\n",
       "    <tr>\n",
       "      <th rowspan=\"2\" valign=\"top\">REF</th>\n",
       "      <th>2017</th>\n",
       "      <td>4</td>\n",
       "      <td>1</td>\n",
       "    </tr>\n",
       "    <tr>\n",
       "      <th>2018</th>\n",
       "      <td>1</td>\n",
       "      <td>7</td>\n",
       "    </tr>\n",
       "    <tr>\n",
       "      <th rowspan=\"2\" valign=\"top\">STR_SUPPLIES</th>\n",
       "      <th>2017</th>\n",
       "      <td>4</td>\n",
       "      <td>10</td>\n",
       "    </tr>\n",
       "    <tr>\n",
       "      <th>2018</th>\n",
       "      <td>1</td>\n",
       "      <td>11</td>\n",
       "    </tr>\n",
       "    <tr>\n",
       "      <th rowspan=\"2\" valign=\"top\">WINE</th>\n",
       "      <th>2017</th>\n",
       "      <td>4</td>\n",
       "      <td>2796</td>\n",
       "    </tr>\n",
       "    <tr>\n",
       "      <th>2018</th>\n",
       "      <td>1</td>\n",
       "      <td>8099</td>\n",
       "    </tr>\n",
       "  </tbody>\n",
       "</table>\n",
       "</div>"
      ],
      "text/plain": [
       "                   Month  RetailSales\n",
       "ItemType     Year                    \n",
       "BEER         2017      4          615\n",
       "             2018      1         1707\n",
       "DUNNAGE      2017      6            4\n",
       "             2018      1            4\n",
       "KEGS         2017      6          484\n",
       "             2018      1          433\n",
       "LIQUOR       2017      4         1721\n",
       "             2018      1         3013\n",
       "NON-ALCOHOL  2017      4           52\n",
       "             2018      1           71\n",
       "REF          2017      4            1\n",
       "             2018      1            7\n",
       "STR_SUPPLIES 2017      4           10\n",
       "             2018      1           11\n",
       "WINE         2017      4         2796\n",
       "             2018      1         8099"
      ]
     },
     "execution_count": 44,
     "metadata": {},
     "output_type": "execute_result"
    }
   ],
   "source": [
    "\n",
    "gk2 = df.groupby(['ItemType','Year','Month'])['RetailSales']\n",
    "\n",
    "#gk2.get_group('BEER')\n",
    "\n",
    "Serie2 = gk2.count()\n",
    "\n",
    "Data2 = Serie2.reset_index()\n",
    "\n",
    "Data2.groupby(['ItemType','Year']).first()"
   ]
  },
  {
   "cell_type": "markdown",
   "metadata": {},
   "source": [
    "## 6. Plot the same information as above but as a bar chart."
   ]
  },
  {
   "cell_type": "code",
   "execution_count": null,
   "metadata": {},
   "outputs": [],
   "source": []
  },
  {
   "cell_type": "markdown",
   "metadata": {},
   "source": [
    "## 7. Create a scatter plot showing the relationship between Retail Sales (x-axis) and Retail Transfers (y-axis) with the plot points color-coded according to their Item Type.\n",
    "\n",
    "*Hint: Seaborn's lmplot is the easiest way to generate the scatter plot.*"
   ]
  },
  {
   "cell_type": "code",
   "execution_count": null,
   "metadata": {},
   "outputs": [],
   "source": []
  },
  {
   "cell_type": "markdown",
   "metadata": {},
   "source": [
    "## 8. Create a scatter matrix using all the numeric fields in the data set with the plot points color-coded by Item Type.\n",
    "\n",
    "*Hint: Seaborn's pairplot may be your best option here.*"
   ]
  },
  {
   "cell_type": "code",
   "execution_count": null,
   "metadata": {},
   "outputs": [],
   "source": [
    "#https://pythonbasics.org/seaborn-heatmap/"
   ]
  }
 ],
 "metadata": {
  "kernelspec": {
   "display_name": "Python 3",
   "language": "python",
   "name": "python3"
  },
  "language_info": {
   "codemirror_mode": {
    "name": "ipython",
    "version": 3
   },
   "file_extension": ".py",
   "mimetype": "text/x-python",
   "name": "python",
   "nbconvert_exporter": "python",
   "pygments_lexer": "ipython3",
   "version": "3.7.7"
  }
 },
 "nbformat": 4,
 "nbformat_minor": 2
}
